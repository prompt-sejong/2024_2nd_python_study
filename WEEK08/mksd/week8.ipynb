{
 "cells": [
  {
   "cell_type": "markdown",
   "metadata": {},
   "source": [
    "## 1. 이터러블 vs 이터레이터 vs 제너레이터\n",
    "\n",
    "1. iterable 이터러블\n",
    "* ierable 객체 : 객체 안에 있는 원소(element)를 하나씩 반환 가능한 객체, iterator을 생성할 수 있는 객체\n",
    "* 파이썬의 기본 내장 데이터 구조는 이터러블한 객체임. + 사용자가 만든 객체(class)도 iterable 객체가 될 수 있음.\n",
    "- iterable 객체는 iter()라는 함수의 입력으로 들어감. \n",
    "    - iter()라는 함수는 다음의 iterator을 반환함.\n",
    "\n",
    "2. iterator 이터레이터\n",
    "* iterator 객체 : iterator의 __next__()나 내장함수인 next()를 호출하여 원소를 순차적으로 반환할 수 있는 객체\n",
    "* iterator가 다음 원소를 계속 반환하다가 끝에 도달해 반활할 원소가 없는 경우 예외문인 StopIteration이 발생\n",
    "- 파이썬에서 for문은 iterable 객체를 만나, 내부적으로 iter()함수를 호출하여 iterator 생성\n",
    "    - 생성된 iterator는 루프가 실행되면서 next()를 호출해 반복적인 데이터를 반환 + 모든 원소 사용 후 StopIteration 발생하며 for문 종료\n",
    "\n",
    "3. generator 제너레이터\n",
    "* generator 객체 : iterator를 생성하는 함수. generator로 생성한 객체는 iterator와 마찬가지로 next()함수를 호출해 다음 값 얻기 가능.\n",
    "* generator은 return 대신 yeild를 이용하여 값을 반환함.\n",
    "    - return과 다르게 해당 함수(generator)가 종료되지 않고 그대로 유지 -> 다음 순서의 generator 호출 시 멈췄던 yield 자리에서 다시 함수 동작\n",
    "    - generator -> next -> 다음 generator 실행 -> yield를 만나 값 반환(generator 종료 X) -> 다시 호출 -> 멈췄던 yield 부터 재실행\n",
    "* 제너레이터는 변수 값을 지속적으로 바꾸어 리스트에 비해 메모리를 절약할 수 있는 장점을 가짐"
   ]
  },
  {
   "cell_type": "markdown",
   "metadata": {},
   "source": [
    "#### 파이썬 iterator 내부 동작\n",
    "\n",
    "``` python\n",
    "# iter() 함수를 호출해, iterator 를 생성하고,\n",
    "iterator_object = iter(iterable_object)\n",
    "\n",
    "while True:\n",
    "    # next() 함수를 호출해, element 를 받아옵니다.\n",
    "    try:\n",
    "        element = next(iterator_object)\n",
    "        print(element)\n",
    "\n",
    "    # element 가 없을 시, StopIteration Exception 발생\n",
    "    except: StopIteration:\n",
    "        break\n",
    "\n",
    "```"
   ]
  },
  {
   "cell_type": "code",
   "execution_count": 2,
   "metadata": {},
   "outputs": [
    {
     "name": "stdout",
     "output_type": "stream",
     "text": [
      "<list_iterator object at 0x7b79ac9136d0>\n",
      "1\n",
      "2\n",
      "3\n",
      "4\n",
      "5\n"
     ]
    },
    {
     "ename": "StopIteration",
     "evalue": "",
     "output_type": "error",
     "traceback": [
      "\u001b[0;31m---------------------------------------------------------------------------\u001b[0m",
      "\u001b[0;31mStopIteration\u001b[0m                             Traceback (most recent call last)",
      "Cell \u001b[0;32mIn[2], line 6\u001b[0m\n\u001b[1;32m      4\u001b[0m \u001b[38;5;28mprint\u001b[39m(iterator_object)\n\u001b[1;32m      5\u001b[0m \u001b[38;5;28;01mfor\u001b[39;00m i \u001b[38;5;129;01min\u001b[39;00m \u001b[38;5;28mrange\u001b[39m(\u001b[38;5;241m6\u001b[39m):\n\u001b[0;32m----> 6\u001b[0m     \u001b[38;5;28mprint\u001b[39m(\u001b[38;5;28;43mnext\u001b[39;49m\u001b[43m(\u001b[49m\u001b[43miterator_object\u001b[49m\u001b[43m)\u001b[49m)    \u001b[38;5;66;03m# 호출 6번째에 StopIteration 발생\u001b[39;00m\n",
      "\u001b[0;31mStopIteration\u001b[0m: "
     ]
    }
   ],
   "source": [
    "# iterable 예시 \n",
    "iterable_object = [1, 2, 3, 4, 5]\n",
    "iterator_object = iter(iterable_object)\n",
    "print(iterator_object)\n",
    "for i in range(6):\n",
    "    print(next(iterator_object))    # 호출 6번째에 StopIteration 발생"
   ]
  },
  {
   "cell_type": "code",
   "execution_count": 3,
   "metadata": {},
   "outputs": [
    {
     "name": "stdout",
     "output_type": "stream",
     "text": [
      "('test1', 15)\n",
      "('test2', 19)\n",
      "('test3', 23)\n",
      "!!\n"
     ]
    }
   ],
   "source": [
    "# iterable 클래스 예시\n",
    "class MyIterable:\n",
    "\n",
    "    def __init__(self, name_list, age_list):\n",
    "        assert len(name_list) == len(age_list)  # name_list와 age_list 개수가 다르면 에러\n",
    "\n",
    "        self.name_list = name_list\n",
    "        self.age_list = age_list\n",
    "        self._current = 0   # 리스트의 인덱스 변수\n",
    "    \n",
    "    def __iter__(self):\n",
    "        return self\n",
    "\n",
    "    def __next__(self):\n",
    "        cur = self._current\n",
    "        self._current += 1\n",
    "        if self._current > len(self.name_list): # 리스트 범위 벗어날 시 종료\n",
    "            print(\"!!\") # if문 조건을 만족하고 종료\n",
    "            raise StopIteration\n",
    "        return (self.name_list[cur], self.age_list[cur])\n",
    "\n",
    "for element in MyIterable(['test1', 'test2', 'test3'], [15, 19, 23]):\n",
    "    print(element)"
   ]
  },
  {
   "cell_type": "code",
   "execution_count": 4,
   "metadata": {},
   "outputs": [
    {
     "name": "stdout",
     "output_type": "stream",
     "text": [
      "0\n",
      "1\n",
      "0\n",
      "1\n"
     ]
    }
   ],
   "source": [
    "def generator_square():\n",
    "    for number in range(0, 5):\n",
    "        yield number**2\n",
    "\n",
    "square_result = generator_square()  # 제너레이터 객체 생성\n",
    "square_result2 = generator_square() # 제너레이터 객체2 생성\n",
    "print(next(square_result))\n",
    "print(next(square_result))\n",
    "print(next(square_result2))         # result와 result2는 서로 다른 객체\n",
    "print(next(square_result2))"
   ]
  },
  {
   "cell_type": "code",
   "execution_count": 5,
   "metadata": {},
   "outputs": [
    {
     "name": "stdout",
     "output_type": "stream",
     "text": [
      "Memory Usage when program start: 72.1875\n",
      "Memory Usage when program end: 111.4375\n"
     ]
    }
   ],
   "source": [
    "# generator의 장점 비교\n",
    "\n",
    "# os.getpid() -> 파이썬 프로세스 ID 가져오기\n",
    "# psutil.Process(os.getpid()) -> psutil 모듈로 PID를 나타내는 Process 객체 생성 (psutil: 시스템과 프로세스 정보 모니터링 라이브러리)\n",
    "# <Process>.memort_info().rss -> 현재 프로세스의 메모리 정보 가져오기.(rss: Resident Set size, 현재 프로세스가 사용중인 메모리 크기(단위:Byte))\n",
    "\n",
    "# for문으로 0~999999 범위의 각 숫자를 제곱값을 리스트에 저장해 반환하는 코드 \n",
    "# 메모리 사용 위치 (단위:MB) 시작 주소 : 69.47265625 -> 끝 주소: 108.75\n",
    "\n",
    "import os\n",
    "import psutil\n",
    "\n",
    "def non_generator_square(end):\n",
    "    result = []\n",
    "    for number in range(0, end):\n",
    "        result.append(number**2)\n",
    "\n",
    "    return result\n",
    "\n",
    "mem_usage_start = psutil.Process(os.getpid()).memory_info().rss / (1024 ** 2)\n",
    "square_results = non_generator_square(999999)\n",
    "mem_usage_end = psutil.Process(os.getpid()).memory_info().rss / (1024 ** 2)\n",
    "\n",
    "print(\"Memory Usage when program start: {}\".format(mem_usage_start))\n",
    "print(\"Memory Usage when program end: {}\".format(mem_usage_end))"
   ]
  },
  {
   "cell_type": "code",
   "execution_count": 6,
   "metadata": {},
   "outputs": [
    {
     "name": "stdout",
     "output_type": "stream",
     "text": [
      "Memory Usage when program start: 111.4375\n",
      "Memory Usage when program end: 73.84375\n"
     ]
    }
   ],
   "source": [
    "# generator로 0~999999 범위의 각 숫자를 제곱값을 반환하는 코드 \n",
    "# 메모리 사용 위치 (단위:MB) 시작 주소 : 69.265625 -> 끝 주소 : 69.265625\n",
    "\n",
    "import os\n",
    "import psutil\n",
    "\n",
    "def generator_square(end):\n",
    "    for number in range(0, end):\n",
    "        yield number**2\n",
    "\n",
    "mem_usage_start = psutil.Process(os.getpid()).memory_info().rss / (1024 ** 2)\n",
    "square_results = generator_square(999999)\n",
    "mem_usage_end = psutil.Process(os.getpid()).memory_info().rss / (1024 ** 2)\n",
    "\n",
    "print(\"Memory Usage when program start: {}\".format(mem_usage_start))\n",
    "print(\"Memory Usage when program end: {}\".format(mem_usage_end))        "
   ]
  },
  {
   "cell_type": "markdown",
   "metadata": {},
   "source": [
    "## 2. 어노테이션(annotation)\n",
    "\n",
    "* 파이썬은 다른 언어와 달리 변수에 명시적으로 자료형을 명시하지 않음 -> 이를 보완하기 위해 annotation 사용\n",
    "* 변수의 예상 타입을 명시하는데 사용 (변수의 실제 타입을 강제 X)\n",
    "- 코드의 가독성 증가\n",
    "- 정적 타입 검사 도구(mypy)를 사용해 타입 오류를 사전에 잡기 위한 목적으로 사용"
   ]
  },
  {
   "cell_type": "markdown",
   "metadata": {},
   "source": [
    "1. 기본 자료형 annotation\n",
    "    - 주로 변수나 자룟값의 변수뒤에 :와 = 명시함으로써, 자료형을 메모"
   ]
  },
  {
   "cell_type": "code",
   "execution_count": 7,
   "metadata": {},
   "outputs": [
    {
     "name": "stdout",
     "output_type": "stream",
     "text": [
      "peter\n",
      "<class 'str'>\n"
     ]
    }
   ],
   "source": [
    "name : str = 'peter'    # name = 'peter'\n",
    "age: int = 15   # age = 15\n",
    "height: float=165.5 # height = 165.5\n",
    "a: bool=False   # a = False\n",
    "\n",
    "print(name)\n",
    "print(type(name))"
   ]
  },
  {
   "cell_type": "markdown",
   "metadata": {},
   "source": [
    "2. 컬렉션 자료형 어노테이션\n",
    "    - (리스트, 튜플, 딕셔너리, 세트)에 대한 어노테이션 표현방법은 기본보다 복잡\n",
    "    - 이 자료형들은 typing 모듈에서 가져올 수 있음  ->   from typing import List,Tuple,Dict,Set\n",
    "    - 어노테이션 표현 시, [] 사용"
   ]
  },
  {
   "cell_type": "code",
   "execution_count": 8,
   "metadata": {},
   "outputs": [
    {
     "name": "stdout",
     "output_type": "stream",
     "text": [
      "['one', 'two', 'three']\n",
      "(1, 2, 3)\n",
      "{'one': 1, 'two': 2, 'three': 3}\n",
      "{1, 2, 3}\n"
     ]
    }
   ],
   "source": [
    "from typing import List,Tuple,Dict,Set\n",
    "\n",
    "#리스트 어노테이션\n",
    "a: List[str]=['one','two','three']  # a=['one','two','three']\n",
    "\n",
    "#튜플 어노테이션\n",
    "b:Tuple[int]=(1,2,3)                # b=(1,2,3)\n",
    "\n",
    "#딕셔너리 어노테이션\n",
    "c:Dict[str,int]={'one':1,'two':2,'three':3} # c={'one':1,'two':2,'three':3}\n",
    "\n",
    "#셋 어노테이션      set : 집합 자료형 (중복 허용 X, 순서 X)\n",
    "d:Set[int]={1,2,3}                  # d={1,2,3}\n",
    "\n",
    "print(a)\n",
    "print(b)\n",
    "print(c)\n",
    "print(d)"
   ]
  },
  {
   "cell_type": "markdown",
   "metadata": {},
   "source": [
    "3. 함수 어노테이션\n",
    "    - 사용자 정의 함수를 만들 때, 함수안의 변수들을 어노테이션으로 정의 가능\n",
    "    - 함수 어노테이션 확인 : <함수>.\\_\\_annotations\\_\\_\n",
    "    "
   ]
  },
  {
   "cell_type": "code",
   "execution_count": 9,
   "metadata": {},
   "outputs": [
    {
     "name": "stdout",
     "output_type": "stream",
     "text": [
      "12\n",
      "칠오\n"
     ]
    },
    {
     "data": {
      "text/plain": [
       "{'a': int, 'b': int, 'return': int}"
      ]
     },
     "execution_count": 9,
     "metadata": {},
     "output_type": "execute_result"
    }
   ],
   "source": [
    "#함수 어노테이션\n",
    "\n",
    "def add(a: int, b:int)->int:    # int인 입력 a,b를 int로 반환\n",
    "    return a+b\n",
    "\n",
    "print(add(7,5))\n",
    "print(add('칠', '오'))\n",
    "\n",
    "#함수의 어노테이션 확인\n",
    "add.__annotations__"
   ]
  },
  {
   "cell_type": "markdown",
   "metadata": {},
   "source": [
    "4. 클래스 어노테이션"
   ]
  },
  {
   "cell_type": "code",
   "execution_count": 10,
   "metadata": {},
   "outputs": [
    {
     "name": "stdout",
     "output_type": "stream",
     "text": [
      "이름: mksd, 나이:23\n",
      "이름: mksd, 나이:23 🍖\n"
     ]
    }
   ],
   "source": [
    "class Student:\n",
    "    def __init__(self, name:str, age:int):\n",
    "        self.name = name\n",
    "        self.age = age\n",
    "    def __str__(self) -> str:   # __str__ 을 오버라이딩하여 print()의 출력 값을 메모리 주소 -> 문자열 출력으로 변경\n",
    "        return '이름: ' + self.name + ', 나이:' + str(self.age)\n",
    "\n",
    "def a(s:Student) -> None:   \n",
    "    print(f'이름: {s.name}, 나이:{s.age} 🍖')\n",
    "\n",
    "student=Student('mksd', 23)    # Student 객체 생성\n",
    "print(student)  # __str__ 호출\n",
    "a(student)      # 함수 a 호출"
   ]
  },
  {
   "cell_type": "markdown",
   "metadata": {},
   "source": [
    "5. 옵셔널\n",
    "    - 변수가 특정 타입이거나 변수의 메모리 값이 None일 때 사용\n",
    "    - Optional[x] -> 반환 값이 x 이거나 None 인 것을 명시"
   ]
  },
  {
   "cell_type": "code",
   "execution_count": 11,
   "metadata": {},
   "outputs": [
    {
     "name": "stdout",
     "output_type": "stream",
     "text": [
      "80.5\n",
      "None\n"
     ]
    }
   ],
   "source": [
    "from typing import Optional, Dict     #옵셔널 모듈 사용\n",
    "\n",
    "#함수 지정\n",
    "def find_score(name: str, scores: Dict[str,float])->Optional[float]:        # 반환 값이 float형 또는 None임을 명시\n",
    "    return scores.get(name)\n",
    "\n",
    "print(find_score('김사과', {'김사과': 80.5, '오렌지':40.8, '반하나':90.4}))     # 반환 자료형 : float\n",
    "print(find_score('파인애플', {'김사과': 80.5, '오렌지':40.8, '반하나':90.4}))   # 반환 자료형 : None"
   ]
  }
 ],
 "metadata": {
  "kernelspec": {
   "display_name": ".conda",
   "language": "python",
   "name": "python3"
  },
  "language_info": {
   "codemirror_mode": {
    "name": "ipython",
    "version": 3
   },
   "file_extension": ".py",
   "mimetype": "text/x-python",
   "name": "python",
   "nbconvert_exporter": "python",
   "pygments_lexer": "ipython3",
   "version": "3.11.9"
  }
 },
 "nbformat": 4,
 "nbformat_minor": 2
}
