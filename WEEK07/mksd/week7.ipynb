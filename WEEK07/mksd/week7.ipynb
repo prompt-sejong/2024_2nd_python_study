{
 "cells": [
  {
   "cell_type": "markdown",
   "metadata": {},
   "source": [
    "### 1. 주요 매직 메서드\n",
    "* 매직 메서드는 Python 클래스에서 특별한 이름을 가진 메서드\n",
    "* 특정 연산자나 내장 함수의 동작을 커스터마이징할 때 사용\n",
    "1. \\_\\_init__(self): 객체 생성 시 호출되는 초기화 메서드\n",
    "2. \\_\\_str__(self): print() 함수로 객체를 출력할 때 호출되는 메서드 (객체의 문자열 표현을 정의)\n",
    "3. \\_\\_add__(self, other): 두 객체를 더할 때 호출됩니다. 주로 연산자를 오버로딩할 때 사용\n",
    "4. \\_\\_len__(self): len() 함수가 호출될 때 사용"
   ]
  },
  {
   "cell_type": "code",
   "execution_count": null,
   "metadata": {},
   "outputs": [],
   "source": [
    "class Person:\n",
    "    def __init__(self,name,age):    # 객체 생성 시 호출되는 초기화 메서드\n",
    "        self.name = name\n",
    "        self.age = age\n",
    "    def __str__(self):      # 객체의 문자열 표현 정의\n",
    "        return f\"Name : {self.name}, Age : {self.age}\"\n",
    "    def __add__(self, other):\n",
    "        return self.age + other.age\n",
    "    def __len__(self):\n",
    "        return len(self.name)\n",
    "\n",
    "person = Person(\"mksd\",23)\n",
    "person2 = Person(\"AA\",26)\n",
    "print(person.name)      # 객체의 이름\n",
    "print(person)           # 객체의 str 값\n",
    "print(person+person2)   # person.age + person2.age\n",
    "print(len(person))      # 객체 이름의 길이"
   ]
  },
  {
   "cell_type": "markdown",
   "metadata": {},
   "source": [
    "### 2. 특정 용도 데코레이터 만들기\n",
    "* 데코레이터 : 어떤 함수가 있을 때 해당 함수를 직접 수정하지 않고 함수에 기능을 추가하고자 할 때 데코레이터를 사용\n",
    "* 함수의 앞 뒤로 다른 코드를 사용할 수 있고, 함수의 리턴값도 조절 가능\n",
    "* 함수의 인자를 검사하는 함수를 만들어 데코레이터 여러개 적용하여 활용 가능\n",
    "1. 함수의 실행 시간을 측정해서 출력해주는 데코레이터\n",
    "    * time 모듈을 사용하여 함수 실행 시간을 측정하는 데코레이터를 작성 가능\n",
    "2. 함수를 실행하기 전에 사용자에게 진행 여부를 확인하는 데코레이터\n",
    "    * 사용자에게 확인을 요청하는 데코레이터 생성 가능"
   ]
  },
  {
   "cell_type": "code",
   "execution_count": null,
   "metadata": {},
   "outputs": [],
   "source": [
    "# 데코레이터의 사용 (함수의 리턴값을 출력할 수 있음.)\n",
    "def decorator(func):\n",
    "    def wrapper(*args, **kwargs):  # *args : 가변인자(튜플), **kwargs : 키워드 가변인자(딕셔너리) -> 함수마다 인자가 다를 수 있기 때문.\n",
    "        print(\"함수 실행 전\")\n",
    "        func()\n",
    "        print(\"함수 실행 후\")\n",
    "        # return func()   # func의 리턴 값이 있는 경우 반환하기 위해 사용\n",
    "    return wrapper\n",
    "\n",
    "@decorator\n",
    "def num():\n",
    "    print(\"안녕하세요!\")\n",
    "    return 3                # return func()를 주석처리해서 출력 값 None\n",
    "print(num())"
   ]
  },
  {
   "cell_type": "code",
   "execution_count": null,
   "metadata": {},
   "outputs": [],
   "source": [
    "# 데코레이터의 사용 (함수의 인자가 정수인지, 양수인지 판단하는 데코레이터)\n",
    "def isInteger(func):\n",
    "    def wrapper(arg1, arg2):\n",
    "        if not (isinstance(arg1, int) and isinstance(arg2, int)):\n",
    "            raise ValueError(\"인자가 정수가 아님!\")\n",
    "        return func(arg1,arg2)\n",
    "    return wrapper\n",
    "\n",
    "def isPositive_num(func):\n",
    "    def wrapper(* arg):\n",
    "        for i in arg:\n",
    "            if i <= 0:\n",
    "                raise ValueError(\"인자가 양수가 아님!\")\n",
    "        return func(* arg)\n",
    "    return wrapper\n",
    "\n",
    "@isInteger      # 데코레이터 선언 -> 함수의 인자가 정수인지 검사\n",
    "@isPositive_num # 함수의 인자가 양수인지 검사\n",
    "def add_num(num1,num2):\n",
    "    return num1 + num2\n",
    "def add_num2(num1,num2):\n",
    "    return num1+num2\n",
    "\n",
    "# 데코레이터 사용하는 경우\n",
    "print(add_num(1,2))\n",
    "# 데코레이터 사용 X인 경우\n",
    "add_func = isInteger(add_num2)\n",
    "print(add_func(1,2))"
   ]
  },
  {
   "cell_type": "code",
   "execution_count": null,
   "metadata": {},
   "outputs": [],
   "source": [
    "# 1. 함수의 실행 시간을 측정하는 데코레이터 \n",
    "import time\n",
    "\n",
    "def timer(func):                            # 함수 실행 시간 측정\n",
    "    def wrapper(*args, **kwargs):\n",
    "        start_time = time.time()\n",
    "        result = func(*args, **kwargs)      # func()의 리턴 값 저장 -> 여기서 func 한 번 호출\n",
    "        print(type(result))         \n",
    "        end_time = time.time()\n",
    "        print(f\"함수 : '{func.__name__}' 실행에 {end_time - start_time:.3f}초가 걸림.\")\n",
    "        return result                       # func()의 리턴 값 반환 -> 만약 func를 하면 함수의 객체가 반환되고 func()를 하면 함수가 2번 실행됨.\n",
    "    return wrapper                          # func에 반환 값이 없다면 return result를 주석처리해도 실행 결과가 같음\n",
    "\n",
    "@timer\n",
    "def sleep_function():\n",
    "    time.sleep(2)       # 2초 동안 동작 정지\n",
    "    print(\"함수 실행 종료\")\n",
    "\n",
    "sleep_function()"
   ]
  },
  {
   "cell_type": "code",
   "execution_count": null,
   "metadata": {},
   "outputs": [],
   "source": [
    "# 2. 함수를 실행하기 전에 사용자에게 진행 여부를 확인하는 데코레이터\n",
    "\n",
    "def check(func):\n",
    "    def wrapper(*args,**kwargs):\n",
    "        data = input(\"함수를 실행할려면 y를 입력하세요!\")\n",
    "        if data == 'y' or data == 'Y':\n",
    "            return func(*args, **kwargs)    # 여기서 함수 실행\n",
    "        else:\n",
    "            print(\"함수 실행이 취소되었습니다.\")\n",
    "    return wrapper\n",
    "@check\n",
    "def Hello(name):\n",
    "    print(f\"Hello, {name}!!\")\n",
    "Hello(\"mksd\")"
   ]
  },
  {
   "cell_type": "code",
   "execution_count": null,
   "metadata": {},
   "outputs": [],
   "source": [
    "# 클래스 함수 데코레이터 생성\n",
    "class Students:\n",
    "    students = []\n",
    "    @classmethod                # cls : 자신의 클래스 \n",
    "    def print(cls):            \n",
    "        for student in cls.students:\n",
    "            print(str(student))\n",
    "    def __init__(self,name,math, korean):\n",
    "        self.name = name\n",
    "        self.math = math\n",
    "        self.korean = korean    \n",
    "        Students.students.append(self)\n",
    "    def get_sum(self):\n",
    "        return self.math + self.korean\n",
    "    def __str__(self):\n",
    "        return f\"{self.name}의 총점은 {self.get_sum()}입니다.\"\n",
    "    \n",
    "Students(\"윤일성\",70,40)\n",
    "Students(\"윤이성\",50,90)\n",
    "Students(\"윤삼성\",20,40)\n",
    "Students(\"윤사성\",90,80)\n",
    "\n",
    "Students.print()"
   ]
  },
  {
   "cell_type": "markdown",
   "metadata": {},
   "source": [
    "### 3. 게터와 세터를 사용하는 이유에 대해 예시\n",
    "* 게터(getter)와 세터(setter)는 클래스 객체의 속성에 접근하거나 수정할 때 사용. \n",
    "* 이들은 객체에 직접적인 접근을 제한하면서 객체의 속성을 설정, 수정할 수 있게 함. \n",
    "\n",
    "##### 사용 이유 : \n",
    "1. 속성 값의 유효성 검증 : 값을 설정하기 전 유효성 검사\n",
    "2. 읽기 전용 속성 : 값을 읽기만 할 수 있고 수정할 수 없도록 제한할 수 있음\n",
    "3. 내부 데이터 캡슐화 : 클래스 외부에서 직접 접근하는 것보다 메서드를 통해 접근 -> 내부 구현을 변경할 때 더 유연하게 대처 가능"
   ]
  },
  {
   "cell_type": "code",
   "execution_count": null,
   "metadata": {},
   "outputs": [],
   "source": [
    "class Person:\n",
    "    def __init__(self, name, age):\n",
    "        self.__name = name   # 속성 은닉 (외부에서 접근 불가)\n",
    "        self.__age = age\n",
    "\n",
    "    @property               # 데코레이터로 게터 선언 (은닉 속성의 값 획득 가능)\n",
    "    def name(self):         # 이름은 게터 선언을 하지 않아 변경 불가.\n",
    "        return self.__name\n",
    "    \n",
    "    @property               # 데코레이터로 게터 선언 (은닉 속성의 값 획득 가능)\n",
    "    def age(self):\n",
    "        return self.__age\n",
    "\n",
    "    @age.setter             # 세터 선언 (값 변경 가능)\n",
    "    def age(self, value):\n",
    "        if not value > 0:   # 변경 값 미리 유효한지 검사\n",
    "            raise ValueError(\"나이는 양수이어야만 합니다.\")\n",
    "        self.__age = value\n",
    "\n",
    "person = Person(\"mksd\", 23)\n",
    "print(f\"변경 전 나이 : {person.age}\")  # 23\n",
    "\n",
    "person.age = 30  # 값 변경\n",
    "print(f\"변경 후 나이 : {person.age}\")  # 30\n",
    "\n",
    "try:\n",
    "    person.age = -5  # 유효성 검사 실패\n",
    "except ValueError as e:\n",
    "    print(e)  # 나이는 양수이어야만 합니다.\n",
    "else:\n",
    "    try:\n",
    "        person.name = \"MMMKKK\"              # 이름은 변경 불가 (읽기만 가능)\n",
    "    except Exception as e:\n",
    "        print(\"이름은 변경할 수 없습니다!\")     \n"
   ]
  },
  {
   "cell_type": "markdown",
   "metadata": {},
   "source": [
    "### 3+. 네이밍\n",
    "1. _(함수) : 다른 파일에서 import 할 때, _(함수)는 가져오지 않음 \n",
    "* (파이썬은 진정한 private를 지원하지 않아 직접접근 시 사용 가능)\n",
    "2. _(변수) : 비공개 변수라는 명시목적. 직접 접근 가능\n",
    "3. __(변수) : 클래스 외부에서 직접 접근 불가 "
   ]
  },
  {
   "cell_type": "code",
   "execution_count": 29,
   "metadata": {},
   "outputs": [
    {
     "name": "stdout",
     "output_type": "stream",
     "text": [
      "STT!\n",
      "internal\n"
     ]
    }
   ],
   "source": [
    "class MyClass:\n",
    "    def __init__(self):\n",
    "        self.__name = \"internal\"\n",
    "        self._str = \"STT!\"\n",
    "\n",
    "obj = MyClass()\n",
    "print(obj._str)\n",
    "# print(obj.__name)  -> 접근 불가\n",
    "print(obj._MyClass__name)  # 'internal'을 이용해 접근 가능"
   ]
  },
  {
   "cell_type": "markdown",
   "metadata": {},
   "source": [
    "### 4. IS-A, HAS-A\n",
    "1. is-a : 상속, \"~은 ~의 한 종류이다. \"를 의미\n",
    "* 노트북은 컴퓨터의 종류다. -> computer 클래스와 Laptop 클래스는 is-a 관계\n",
    "* is-a 관계를 표현할 때, 상속을 사용\n",
    "2. has-a : 구성, \"~이 ~을 가지거나 포함한다. \"를 의미\n",
    "* 컴퓨터는 cpu와 ram을 가지고 있음 -> computer has cpu -> has-a 관계"
   ]
  },
  {
   "cell_type": "code",
   "execution_count": null,
   "metadata": {},
   "outputs": [],
   "source": [
    "# is-a 관계\n",
    "class Computer:\n",
    "    def __init__(self, cpu, ram):\n",
    "        self.CPU = cpu\n",
    "        self.RAM = ram\n",
    "\n",
    "    def browse(self):           # 웹 서핑 메서드\n",
    "        print('browse')\n",
    "\n",
    "    def work(self):             # 일 메서드\n",
    "        print('work')\n",
    "\n",
    "\n",
    "# 노트북 클래스 <- 컴퓨터 클래스를 상속\n",
    "# 컴퓨터 클래스의 모든 멤버와 메서드를 가짐.\n",
    "class Laptop(Computer):\n",
    "    def __init__(self, cpu, ram, battery):\n",
    "        super().__init__(cpu, ram)                   # super는 현재 클래스의 슈퍼 클래스 즉, 기본 클래스를 의미\n",
    "        self.battery = battery\n",
    "    def move(self, to):\n",
    "        print('move to {}'.format(to))\n",
    "\n",
    "lap = Laptop('AMD', 16, '7500mAh')\n",
    "lap.browse()\n",
    "lap.work()\n",
    "lap.move('office')"
   ]
  },
  {
   "cell_type": "code",
   "execution_count": null,
   "metadata": {},
   "outputs": [],
   "source": [
    "# has-a 관계 (합성)\n",
    "class CPU:\n",
    "    pass\n",
    "\n",
    "class RAM:\n",
    "    pass\n",
    "class Computer:\n",
    "    def __init__(self):\n",
    "        # 생성자에서 CPU객체를 생성하여 멤버 cpu에 할당\n",
    "        self.cpu = CPU()\n",
    "        self.ram = RAM()\n"
   ]
  },
  {
   "cell_type": "code",
   "execution_count": null,
   "metadata": {},
   "outputs": [],
   "source": [
    "# has-a 관계 (통합)\n",
    "\n",
    "class Gun:\n",
    "    def __init__(self, kind):\n",
    "        self.kind = kind\n",
    "    def bang(self):\n",
    "        print('bang bang')\n",
    "\n",
    "\n",
    "class Police:\n",
    "    def __init__(self):\n",
    "        self.gun = None         # Police 인스턴스가 생성될 때, Gun객체 포함 X\n",
    "\n",
    "    def acquire_gun(self, gun): # acquire_gun를 통해 Gun객체를 가짐\n",
    "        self.gun = gun\n",
    "\n",
    "    def release_gun(self):      \t# release_gun 메서드를 통해 가지고 있던 총을 반납할 수도 있음.\n",
    "        gun = self.gun\n",
    "        self.gun = None\n",
    "        return gun\n",
    "\n",
    "    def shoot(self):                # 총이 있다면 쏘기\n",
    "        if self.gun:\n",
    "            self.gun.bang()\n",
    "        else:\n",
    "            print('Unable to shoot')\n",
    "\n",
    "p1 = Police()\n",
    "print('p1 shoots')\n",
    "p1.shoot()\n",
    "print('')\n",
    "\n",
    "# p1은 아직 총을 소유하지 않음\n",
    "revolver = Gun('Revolver')\n",
    "# p1이 revolver를 획득\n",
    "p1.acquire_gun(revolver)\n",
    "# 이제 p1이 총을 소유하므로\n",
    "# revolver는 None이 된다\n",
    "revolver = None\n",
    "print('p1 shoots again')\n",
    "p1.shoot()\n",
    "print('')\n",
    "\n",
    "# p1 총을 반납 \n",
    "revolver = p1.release_gun()\n",
    "print('p1 shoots again')\n",
    "p1.shoot()\n",
    "print(revolver.kind)"
   ]
  },
  {
   "cell_type": "markdown",
   "metadata": {},
   "source": [
    "### 5. 스택, 큐, 우선순위 큐\n",
    "1. 스택 : LIFO 구조, 나중에 넣은 것이 가장 먼저 나옴    (한 면이 막힌 통)\n",
    "2. 큐 : FIFO 구조, 먼저 넣은 것이 먼저 나옴             (빨대)\n",
    "3. 우선순위 큐 : 우선순위가 낮은 것부터 0번째 인덱스에 오도록 정렬하면서 저장되는 큐 (heap으로 구현됨 -> 구현이 조금 복잡)\n",
    "* 정렬하는데 시간복잡도가 O(log n)만큼 걸려 정렬이 매우 빠름\n",
    "* PriorityQueue 는 Thread-Safe,  heapq는 Non-safe 함 \n",
    "</br>-> Thread Safe 하다는 것은 반드시 확인 절차를 걸쳐야 해서 좀 더 느림."
   ]
  },
  {
   "cell_type": "code",
   "execution_count": null,
   "metadata": {},
   "outputs": [
    {
     "name": "stdout",
     "output_type": "stream",
     "text": [
      "300\n",
      "20\n",
      "10\n"
     ]
    }
   ],
   "source": [
    "# stack 예시\n",
    "class Stack:\n",
    "    def __init__(self):\n",
    "        self.list = []\n",
    "    def push(self, item):\n",
    "        self.list.append(item)\n",
    "    def pop(self):\n",
    "        return self.list.pop()\n",
    "stack = Stack()\n",
    "stack.push(10)\n",
    "stack.push(20)\n",
    "stack.push(300) \n",
    "print(stack.pop())      # 300\n",
    "print(stack.pop())      # 20\n",
    "print(stack.pop())      # 10"
   ]
  },
  {
   "cell_type": "code",
   "execution_count": null,
   "metadata": {},
   "outputs": [
    {
     "name": "stdout",
     "output_type": "stream",
     "text": [
      "10\n",
      "20\n",
      "300\n"
     ]
    }
   ],
   "source": [
    "# Queue 예시\n",
    "class Queue:\n",
    "    def __init__(self):\n",
    "        self.list = []\n",
    "    def enqueue(self, item):\n",
    "        self.list.append(item)\n",
    "    def dequeue(self):\n",
    "        item = self.list[0]\n",
    "        self.list = self.list[1:]          # 0 번째 인덱스 제외하고 저장\n",
    "        return item \n",
    "queue = Queue()\n",
    "queue.enqueue(10)\n",
    "queue.enqueue(20)\n",
    "queue.enqueue(300) \n",
    "print(queue.dequeue())      # 10\n",
    "print(queue.dequeue())      # 20\n",
    "print(queue.dequeue())      # 300"
   ]
  },
  {
   "cell_type": "code",
   "execution_count": null,
   "metadata": {},
   "outputs": [
    {
     "name": "stdout",
     "output_type": "stream",
     "text": [
      "3\n",
      "5\n"
     ]
    }
   ],
   "source": [
    "# 우선순위 큐\n",
    "from queue import PriorityQueue # (heap으로 구현됨)\n",
    "\n",
    "pq = PriorityQueue()\n",
    "pq.put(100)         # pq 에 원소 삽입\n",
    "pq.put(3)\n",
    "pq.put(5)\n",
    "\n",
    "print(pq.get())  # 3    가장 작은 원소를 리턴 + 삭제\n",
    "print(pq.get())  # 5    그 다음 원소 리턴 + 삭제"
   ]
  }
 ],
 "metadata": {
  "kernelspec": {
   "display_name": "Python 3",
   "language": "python",
   "name": "python3"
  },
  "language_info": {
   "codemirror_mode": {
    "name": "ipython",
    "version": 3
   },
   "file_extension": ".py",
   "mimetype": "text/x-python",
   "name": "python",
   "nbconvert_exporter": "python",
   "pygments_lexer": "ipython3",
   "version": "3.9.13"
  }
 },
 "nbformat": 4,
 "nbformat_minor": 2
}
